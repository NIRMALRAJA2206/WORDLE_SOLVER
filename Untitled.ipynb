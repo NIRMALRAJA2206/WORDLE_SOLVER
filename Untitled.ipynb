{
 "cells": [
  {
   "cell_type": "code",
   "execution_count": 1,
   "id": "4c3c57f3-6b85-4c0f-b7ad-22a7e39d2743",
   "metadata": {
    "tags": []
   },
   "outputs": [],
   "source": [
    "def generate_words_list(file_path):\n",
    "    words = []\n",
    "\n",
    "    with open(file_path, 'r') as file:\n",
    "        for line in file:\n",
    "            line = line.strip()\n",
    "            if len(line) == 5:\n",
    "                words.append(line)\n",
    "\n",
    "    return words"
   ]
  },
  {
   "cell_type": "code",
   "execution_count": 2,
   "id": "db75217e-18c6-45a1-8d5d-441573b5073a",
   "metadata": {
    "tags": []
   },
   "outputs": [],
   "source": [
    "def generate_position_dictionary(words):\n",
    "    positions = {'first': {}, 'second': {}, 'third': {}, 'fourth': {}, 'fifth': {}}\n",
    "\n",
    "    for i in words:\n",
    "        for j in range(5):\n",
    "            position_name = ['first', 'second', 'third', 'fourth', 'fifth'][j]\n",
    "            if i[j] not in positions[position_name]:\n",
    "                positions[position_name][i[j]] = 1\n",
    "            else:\n",
    "                positions[position_name][i[j]] += 1\n",
    "\n",
    "    for key in positions:\n",
    "        positions[key] = dict(sorted(positions[key].items(), key=lambda item: item[1], reverse=True))\n",
    "\n",
    "    return positions\n"
   ]
  },
  {
   "cell_type": "code",
   "execution_count": 3,
   "id": "9c5311aa-2a2b-4c57-828c-6cd883b5ace3",
   "metadata": {
    "tags": []
   },
   "outputs": [],
   "source": [
    "def filter_words_by_frequencies(words, position_dict):\n",
    "    sorted_positions = sorted(position_dict.items(), key=lambda item: list(item[1].values())[0], reverse=True)\n",
    "    wordx = words.copy()\n",
    "\n",
    "    word_lists = {\n",
    "        'word_first': [],\n",
    "        'word_second': [],\n",
    "        'word_third': [],\n",
    "        'word_fourth': [],\n",
    "        'word_fifth': [],\n",
    "    }\n",
    "\n",
    "    for name, item in sorted_positions:\n",
    "        z = 1\n",
    "        flag = False\n",
    "        wordname = \"word_\" + name\n",
    "        while not flag:\n",
    "            alpha = list(item.keys())[:z]\n",
    "            for k in alpha:\n",
    "                for ini in wordx:\n",
    "                    if str(ini[['first', 'second', 'third', 'fourth', 'fifth'].index(name)]) == str(k):\n",
    "                        if ini not in word_lists[wordname]:\n",
    "                            word_lists[wordname].append(ini)\n",
    "\n",
    "            if len(word_lists[\"word_\" + name]) == 0:\n",
    "                z += 1\n",
    "                # print(\"z increase\")\n",
    "            else:\n",
    "                flag = True\n",
    "                wordx = word_lists[\"word_\" + name].copy()\n",
    "    return wordx"
   ]
  },
  {
   "cell_type": "code",
   "execution_count": 4,
   "id": "272b5bac-4245-46e0-a3b7-3b92c4d3bda5",
   "metadata": {
    "tags": []
   },
   "outputs": [],
   "source": [
    "final_check = {}\n",
    "def guess_the_word(random_word):\n",
    "    crt_word = random_word\n",
    "    letter_in_crt_pl = {}\n",
    "    letter_in_wrg_pl = {}\n",
    "    letter_not_ext = []\n",
    "\n",
    "    words = generate_words_list('words_alpha.txt')\n",
    "    position_dict = generate_position_dictionary(words)\n",
    "    suggested_words = filter_words_by_frequencies(words, position_dict)\n",
    "    my_guess = suggested_words[0]\n",
    "\n",
    "    if my_guess==crt_word:\n",
    "        print(\"Cool\",crt_word)\n",
    "        exit()\n",
    "    else:\n",
    "        z=1\n",
    "        while my_guess != crt_word:\n",
    "            z+=1\n",
    "            for i in range(5):\n",
    "                if my_guess[i] not in crt_word and my_guess[i] not in letter_not_ext:\n",
    "                    letter_not_ext.append(str(my_guess[i]))\n",
    "                elif crt_word[i] == my_guess[i]:\n",
    "                    if crt_word[i] not in letter_in_crt_pl.keys():\n",
    "                        letter_in_crt_pl[crt_word[i]] = []\n",
    "                        if i not in letter_in_crt_pl[crt_word[i]]:\n",
    "                            letter_in_crt_pl[crt_word[i]].append(i)\n",
    "                    else:\n",
    "                        if i not in letter_in_crt_pl[crt_word[i]]:\n",
    "                            letter_in_crt_pl[crt_word[i]].append(i)\n",
    "                else:\n",
    "                    letter_in_wrg_pl[my_guess[i]] = i\n",
    "            new_words_1 = []\n",
    "            new_words_2 = []\n",
    "            new_words_3 = []\n",
    "\n",
    "            new_words_1 = [word for word in words if not any(letter in word for letter in letter_not_ext)]\n",
    "\n",
    "            for c in new_words_1:\n",
    "                conditions_met = True\n",
    "                for d, positions in letter_in_crt_pl.items():\n",
    "                    for pos in positions:\n",
    "                        if pos >= len(c) or d != c[pos]:\n",
    "                            conditions_met = False\n",
    "                            break\n",
    "                    if not conditions_met:\n",
    "                        break\n",
    "                if conditions_met:\n",
    "                    new_words_2.append(c)\n",
    "            # print(new_words_2)\n",
    "\n",
    "            for e in new_words_2:\n",
    "                conditions_met = True\n",
    "                for f, expected_pos in letter_in_wrg_pl.items():\n",
    "                    if f in e and len(e) > expected_pos and e[expected_pos] == f:\n",
    "                        conditions_met = False\n",
    "                        break\n",
    "                if conditions_met:\n",
    "                    new_words_3.append(e)\n",
    "            #print(new_words_3)\n",
    "\n",
    "            position_dict1 = generate_position_dictionary(new_words_3)\n",
    "            suggested_words1 = filter_words_by_frequencies(new_words_3, position_dict1)\n",
    "            # print(new_words_2)\n",
    "            # print(new_words_3)\n",
    "            # print(suggested_words1)\n",
    "            my_guess = suggested_words1[0]\n",
    "            # print(letter_not_ext)\n",
    "            # print(letter_in_wrg_pl)\n",
    "            # print(letter_in_crt_pl)        \n",
    "        # print(words.index(random_word),my_guess,z)\n",
    "        return my_guess,z\n"
   ]
  },
  {
   "cell_type": "code",
   "execution_count": 5,
   "id": "52966e07-a0ec-47e8-b552-875e7284c12c",
   "metadata": {
    "tags": []
   },
   "outputs": [
    {
     "name": "stdout",
     "output_type": "stream",
     "text": [
      "15920\n",
      "0 1 2 3 4 5 6 7 8 9 "
     ]
    },
    {
     "ename": "KeyboardInterrupt",
     "evalue": "",
     "output_type": "error",
     "traceback": [
      "\u001b[1;31m---------------------------------------------------------------------------\u001b[0m",
      "\u001b[1;31mKeyboardInterrupt\u001b[0m                         Traceback (most recent call last)",
      "Cell \u001b[1;32mIn[5], line 7\u001b[0m\n\u001b[0;32m      5\u001b[0m \u001b[38;5;28;01mfor\u001b[39;00m q \u001b[38;5;129;01min\u001b[39;00m \u001b[38;5;28mrange\u001b[39m(\u001b[38;5;241m199\u001b[39m):\n\u001b[0;32m      6\u001b[0m     \u001b[38;5;28;01mfor\u001b[39;00m check_all \u001b[38;5;129;01min\u001b[39;00m wordd[o:p]:\n\u001b[1;32m----> 7\u001b[0m         t \u001b[38;5;241m=\u001b[39m \u001b[43mguess_the_word\u001b[49m\u001b[43m(\u001b[49m\u001b[43mcheck_all\u001b[49m\u001b[43m)\u001b[49m\n\u001b[0;32m      8\u001b[0m         x\u001b[38;5;241m=\u001b[39mt[\u001b[38;5;241m0\u001b[39m]\n\u001b[0;32m      9\u001b[0m         y\u001b[38;5;241m=\u001b[39mt[\u001b[38;5;241m1\u001b[39m]\n",
      "Cell \u001b[1;32mIn[4], line 8\u001b[0m, in \u001b[0;36mguess_the_word\u001b[1;34m(random_word)\u001b[0m\n\u001b[0;32m      5\u001b[0m letter_in_wrg_pl \u001b[38;5;241m=\u001b[39m {}\n\u001b[0;32m      6\u001b[0m letter_not_ext \u001b[38;5;241m=\u001b[39m []\n\u001b[1;32m----> 8\u001b[0m words \u001b[38;5;241m=\u001b[39m \u001b[43mgenerate_words_list\u001b[49m\u001b[43m(\u001b[49m\u001b[38;5;124;43m'\u001b[39;49m\u001b[38;5;124;43mwords_alpha.txt\u001b[39;49m\u001b[38;5;124;43m'\u001b[39;49m\u001b[43m)\u001b[49m\n\u001b[0;32m      9\u001b[0m position_dict \u001b[38;5;241m=\u001b[39m generate_position_dictionary(words)\n\u001b[0;32m     10\u001b[0m suggested_words \u001b[38;5;241m=\u001b[39m filter_words_by_frequencies(words, position_dict)\n",
      "Cell \u001b[1;32mIn[1], line 5\u001b[0m, in \u001b[0;36mgenerate_words_list\u001b[1;34m(file_path)\u001b[0m\n\u001b[0;32m      2\u001b[0m words \u001b[38;5;241m=\u001b[39m []\n\u001b[0;32m      4\u001b[0m \u001b[38;5;28;01mwith\u001b[39;00m \u001b[38;5;28mopen\u001b[39m(file_path, \u001b[38;5;124m'\u001b[39m\u001b[38;5;124mr\u001b[39m\u001b[38;5;124m'\u001b[39m) \u001b[38;5;28;01mas\u001b[39;00m file:\n\u001b[1;32m----> 5\u001b[0m     \u001b[38;5;28;01mfor\u001b[39;00m line \u001b[38;5;129;01min\u001b[39;00m file:\n\u001b[0;32m      6\u001b[0m         line \u001b[38;5;241m=\u001b[39m line\u001b[38;5;241m.\u001b[39mstrip()\n\u001b[0;32m      7\u001b[0m         \u001b[38;5;28;01mif\u001b[39;00m \u001b[38;5;28mlen\u001b[39m(line) \u001b[38;5;241m==\u001b[39m \u001b[38;5;241m5\u001b[39m:\n",
      "File \u001b[1;32m~\\.conda\\envs\\CS4811_AI\\lib\\encodings\\cp1252.py:22\u001b[0m, in \u001b[0;36mIncrementalDecoder.decode\u001b[1;34m(self, input, final)\u001b[0m\n\u001b[0;32m     21\u001b[0m \u001b[38;5;28;01mclass\u001b[39;00m \u001b[38;5;21;01mIncrementalDecoder\u001b[39;00m(codecs\u001b[38;5;241m.\u001b[39mIncrementalDecoder):\n\u001b[1;32m---> 22\u001b[0m     \u001b[38;5;28;01mdef\u001b[39;00m \u001b[38;5;21mdecode\u001b[39m(\u001b[38;5;28mself\u001b[39m, \u001b[38;5;28minput\u001b[39m, final\u001b[38;5;241m=\u001b[39m\u001b[38;5;28;01mFalse\u001b[39;00m):\n\u001b[0;32m     23\u001b[0m         \u001b[38;5;28;01mreturn\u001b[39;00m codecs\u001b[38;5;241m.\u001b[39mcharmap_decode(\u001b[38;5;28minput\u001b[39m,\u001b[38;5;28mself\u001b[39m\u001b[38;5;241m.\u001b[39merrors,decoding_table)[\u001b[38;5;241m0\u001b[39m]\n",
      "\u001b[1;31mKeyboardInterrupt\u001b[0m: "
     ]
    }
   ],
   "source": [
    "wordd = generate_words_list('words_alpha.txt')\n",
    "print(len(wordd))\n",
    "o = 0 \n",
    "p = 81\n",
    "for q in range(199):\n",
    "    for check_all in wordd[o:p]:\n",
    "        t = guess_the_word(check_all)\n",
    "        x=t[0]\n",
    "        y=t[1]\n",
    "        if y not in final_check.keys():\n",
    "            final_check[y] = 0\n",
    "        else:\n",
    "            final_check[y] +=1\n",
    "        print(wordd.index(check_all),end=\" \")\n",
    "    o=p\n",
    "    p+=80\n",
    "print()\n",
    "print(final_check)\n"
   ]
  },
  {
   "cell_type": "code",
   "execution_count": 7,
   "id": "eea6e78f-9164-4aad-8378-2488c4c2c654",
   "metadata": {
    "tags": []
   },
   "outputs": [
    {
     "name": "stdout",
     "output_type": "stream",
     "text": [
      "aesir\n"
     ]
    }
   ],
   "source": [
    "print(wordd[230])"
   ]
  },
  {
   "cell_type": "code",
   "execution_count": null,
   "id": "099a04b3-b2bb-4f38-8bc9-ca6353dd3278",
   "metadata": {},
   "outputs": [],
   "source": []
  }
 ],
 "metadata": {
  "kernelspec": {
   "display_name": "CS4811_AI",
   "language": "python",
   "name": "cs4811_ai"
  },
  "language_info": {
   "codemirror_mode": {
    "name": "ipython",
    "version": 3
   },
   "file_extension": ".py",
   "mimetype": "text/x-python",
   "name": "python",
   "nbconvert_exporter": "python",
   "pygments_lexer": "ipython3",
   "version": "3.8.17"
  }
 },
 "nbformat": 4,
 "nbformat_minor": 5
}
