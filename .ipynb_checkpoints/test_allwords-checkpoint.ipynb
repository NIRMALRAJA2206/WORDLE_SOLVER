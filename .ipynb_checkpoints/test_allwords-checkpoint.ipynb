{
  "cells": [
    {
      "cell_type": "code",
      "execution_count": 2,
      "id": "4c3c57f3-6b85-4c0f-b7ad-22a7e39d2743",
      "metadata": {
        "tags": [],
        "id": "4c3c57f3-6b85-4c0f-b7ad-22a7e39d2743"
      },
      "outputs": [],
      "source": [
        "def generate_words_list(file_path):\n",
        "    words = []\n",
        "\n",
        "    with open(file_path, 'r') as file:\n",
        "        for line in file:\n",
        "            line = line.strip()\n",
        "            if len(line) == 5:\n",
        "                words.append(line)\n",
        "\n",
        "    return words"
      ]
    },
    {
      "cell_type": "code",
      "execution_count": 3,
      "id": "db75217e-18c6-45a1-8d5d-441573b5073a",
      "metadata": {
        "tags": [],
        "id": "db75217e-18c6-45a1-8d5d-441573b5073a"
      },
      "outputs": [],
      "source": [
        "def generate_position_dictionary(words):\n",
        "    positions = {'first': {}, 'second': {}, 'third': {}, 'fourth': {}, 'fifth': {}}\n",
        "\n",
        "    for i in words:\n",
        "        for j in range(5):\n",
        "            position_name = ['first', 'second', 'third', 'fourth', 'fifth'][j]\n",
        "            if i[j] not in positions[position_name]:\n",
        "                positions[position_name][i[j]] = 1\n",
        "            else:\n",
        "                positions[position_name][i[j]] += 1\n",
        "\n",
        "    for key in positions:\n",
        "        positions[key] = dict(sorted(positions[key].items(), key=lambda item: item[1], reverse=True))\n",
        "\n",
        "    return positions\n"
      ]
    },
    {
      "cell_type": "code",
      "execution_count": 4,
      "id": "9c5311aa-2a2b-4c57-828c-6cd883b5ace3",
      "metadata": {
        "tags": [],
        "id": "9c5311aa-2a2b-4c57-828c-6cd883b5ace3"
      },
      "outputs": [],
      "source": [
        "def filter_words_by_frequencies(words, position_dict):\n",
        "    sorted_positions = sorted(position_dict.items(), key=lambda item: list(item[1].values())[0], reverse=True)\n",
        "    wordx = words.copy()\n",
        "\n",
        "    word_lists = {\n",
        "        'word_first': [],\n",
        "        'word_second': [],\n",
        "        'word_third': [],\n",
        "        'word_fourth': [],\n",
        "        'word_fifth': [],\n",
        "    }\n",
        "\n",
        "    for name, item in sorted_positions:\n",
        "        z = 1\n",
        "        flag = False\n",
        "        wordname = \"word_\" + name\n",
        "        while not flag:\n",
        "            alpha = list(item.keys())[:z]\n",
        "            for k in alpha:\n",
        "                for ini in wordx:\n",
        "                    if str(ini[['first', 'second', 'third', 'fourth', 'fifth'].index(name)]) == str(k):\n",
        "                        if ini not in word_lists[wordname]:\n",
        "                            word_lists[wordname].append(ini)\n",
        "\n",
        "            if len(word_lists[\"word_\" + name]) == 0:\n",
        "                z += 1\n",
        "                # print(\"z increase\")\n",
        "            else:\n",
        "                flag = True\n",
        "                wordx = word_lists[\"word_\" + name].copy()\n",
        "    return wordx"
      ]
    },
    {
      "cell_type": "code",
      "execution_count": 7,
      "id": "272b5bac-4245-46e0-a3b7-3b92c4d3bda5",
      "metadata": {
        "tags": [],
        "id": "272b5bac-4245-46e0-a3b7-3b92c4d3bda5"
      },
      "outputs": [],
      "source": [
        "final_check = {}\n",
        "def guess_the_word(random_word):\n",
        "    crt_word = random_word\n",
        "    letter_in_crt_pl = {}\n",
        "    letter_in_wrg_pl = {}\n",
        "    letter_not_ext = []\n",
        "\n",
        "    words = generate_words_list('words_alpha.txt')\n",
        "    position_dict = generate_position_dictionary(words)\n",
        "    suggested_words = filter_words_by_frequencies(words, position_dict)\n",
        "    my_guess = suggested_words[0]\n",
        "\n",
        "    if my_guess==crt_word:\n",
        "        return (my_guess,1)\n",
        "        exit()\n",
        "    else:\n",
        "        z=1\n",
        "        while my_guess != crt_word:\n",
        "            z+=1\n",
        "            for i in range(5):\n",
        "                if my_guess[i] not in crt_word and my_guess[i] not in letter_not_ext:\n",
        "                    letter_not_ext.append(str(my_guess[i]))\n",
        "                elif crt_word[i] == my_guess[i]:\n",
        "                    if crt_word[i] not in letter_in_crt_pl.keys():\n",
        "                        letter_in_crt_pl[crt_word[i]] = []\n",
        "                        if i not in letter_in_crt_pl[crt_word[i]]:\n",
        "                            letter_in_crt_pl[crt_word[i]].append(i)\n",
        "                    else:\n",
        "                        if i not in letter_in_crt_pl[crt_word[i]]:\n",
        "                            letter_in_crt_pl[crt_word[i]].append(i)\n",
        "\n",
        "                else:\n",
        "                    if my_guess[i] not in letter_in_wrg_pl.keys():\n",
        "                        letter_in_wrg_pl[my_guess[i]] = []\n",
        "                        if i not in letter_in_wrg_pl[my_guess[i]]:\n",
        "                            letter_in_wrg_pl[my_guess[i]].append(i)\n",
        "                    else:\n",
        "                        if i not in letter_in_wrg_pl[my_guess[i]]:\n",
        "                            letter_in_wrg_pl[my_guess[i]].append(i)\n",
        "            new_words_1 = []\n",
        "            new_words_2 = []\n",
        "            new_words_3 = []\n",
        "\n",
        "            new_words_1 = [word for word in words if not any(letter in word for letter in letter_not_ext)]\n",
        "\n",
        "            for c in new_words_1:\n",
        "                conditions_met = True\n",
        "                for d, positions in letter_in_crt_pl.items():\n",
        "                    for pos in positions:\n",
        "                        if pos >= len(c) or d != c[pos]:\n",
        "                            conditions_met = False\n",
        "                            break\n",
        "                    if not conditions_met:\n",
        "                        break\n",
        "                if conditions_met:\n",
        "                    new_words_2.append(c)\n",
        "            # print(new_words_2)\n",
        "\n",
        "            for e in new_words_2:\n",
        "                conditions_met = True\n",
        "                for f, expected_positions in letter_in_wrg_pl.items():\n",
        "                    for expected_pos in expected_positions:\n",
        "                        if (f in e and len(e) > expected_pos and e[expected_pos] == f):\n",
        "                            conditions_met = False\n",
        "                            break\n",
        "                if conditions_met:\n",
        "                    new_words_3.append(e)\n",
        "            #print(new_words_3)\n",
        "\n",
        "            position_dict1 = generate_position_dictionary(new_words_3)\n",
        "            suggested_words1 = filter_words_by_frequencies(new_words_3, position_dict1)\n",
        "            # print(new_words_2)\n",
        "            # print(new_words_3)\n",
        "            # print(suggested_words1)\n",
        "            my_guess = suggested_words1[0]\n",
        "            # print(letter_not_ext)\n",
        "            # print(letter_in_wrg_pl)\n",
        "            # print(letter_in_crt_pl)\n",
        "        # print(words.index(random_word),my_guess,z)\n",
        "        return my_guess,z\n"
      ]
    },
    {
      "cell_type": "code",
      "execution_count": 8,
      "id": "52966e07-a0ec-47e8-b552-875e7284c12c",
      "metadata": {
        "tags": [],
        "colab": {
          "base_uri": "https://localhost:8080/"
        },
        "id": "52966e07-a0ec-47e8-b552-875e7284c12c",
        "outputId": "5bfce342-6afa-4e0f-e621-9370ae7f820a"
      },
      "outputs": [
        {
          "output_type": "stream",
          "name": "stdout",
          "text": [
            "15920\n",
            "81 161 241 321 401 481 561 641 721 801 881 961 1041 1121 1201 1281 1361 1441 1521 1601 1681 1761 1841 1921 2001 2081 2161 2241 2321 2401 2481 2561 2641 2721 2801 2881 2961 3041 3121 3201 3281 3361 3441 3521 3601 3681 3761 3841 3921 4001 4081 4161 4241 4321 4401 4481 4561 4641 4721 4801 4881 4961 5041 5121 5201 5281 5361 5441 5521 5601 5681 5761 5841 5921 6001 6081 6161 6241 6321 6401 6481 6561 6641 6721 6801 6881 6961 7041 7121 7201 7281 7361 7441 7521 7601 7681 7761 7841 7921 8001 8081 8161 8241 8321 8401 8481 8561 8641 8721 8801 8881 8961 9041 9121 9201 9281 9361 9441 9521 9601 9681 9761 9841 9921 10001 10081 10161 10241 10321 10401 10481 10561 10641 10721 10801 10881 10961 11041 11121 11201 11281 11361 11441 11521 11601 11681 11761 11841 11921 12001 12081 12161 12241 12321 12401 12481 12561 12641 12721 12801 12881 12961 13041 13121 13201 13281 13361 13441 13521 13601 13681 13761 13841 13921 14001 14081 14161 14241 14321 14401 14481 14561 14641 14721 14801 14881 14961 15041 15121 15201 15281 15361 15441 15521 15601 15681 15761 15841 15921 \n",
            "{9: 320, 5: 4455, 7: 2688, 6: 4995, 4: 1849, 8: 988, 3: 373, 10: 124, 2: 38, 11: 44, 12: 21, 13: 6, 1: 0, 14: 3, 15: 0, 16: 0}\n"
          ]
        }
      ],
      "source": [
        "wordd = generate_words_list('/content/words_alpha.txt')\n",
        "print(len(wordd))\n",
        "o = 0\n",
        "p = 81\n",
        "for q in range(199):\n",
        "    for check_all in wordd[o:p]:\n",
        "        t = guess_the_word(check_all)\n",
        "        x=t[0]\n",
        "        y=t[1]\n",
        "        if y not in final_check.keys():\n",
        "            final_check[y] = 0\n",
        "        else:\n",
        "            final_check[y] +=1\n",
        "    print(p,end=\" \")\n",
        "    o=p\n",
        "    p+=80\n",
        "print()\n",
        "print(final_check)\n"
      ]
    },
    {
      "cell_type": "code",
      "source": [
        "sorted_final_check = dict(sorted(final_check.items(), key=lambda item: item[1], reverse=True))\n",
        "\n",
        "print(sorted_final_check)"
      ],
      "metadata": {
        "colab": {
          "base_uri": "https://localhost:8080/"
        },
        "id": "v11hZNcgOBpl",
        "outputId": "d504043d-cf16-4000-ee92-2d7f5fd4ac77"
      },
      "id": "v11hZNcgOBpl",
      "execution_count": 10,
      "outputs": [
        {
          "output_type": "stream",
          "name": "stdout",
          "text": [
            "{6: 4995, 5: 4455, 7: 2688, 4: 1849, 8: 988, 3: 373, 9: 320, 10: 124, 11: 44, 2: 38, 12: 21, 13: 6, 14: 3, 1: 0, 15: 0, 16: 0}\n"
          ]
        }
      ]
    },
    {
      "cell_type": "code",
      "source": [
        "import matplotlib.pyplot as plt\n",
        "\n",
        "keys = list(sorted_final_check.keys())\n",
        "values = list(sorted_final_check.values())\n",
        "\n",
        "\n",
        "plt.figure(figsize=(10, 6))\n",
        "plt.bar(keys, values)\n",
        "\n",
        "plt.xlabel('No. of attempts for my_guess')\n",
        "plt.ylabel('No. of words')\n",
        "plt.title('Sorted_final_check Bar Chart')\n",
        "\n",
        "plt.show()\n"
      ],
      "metadata": {
        "colab": {
          "base_uri": "https://localhost:8080/",
          "height": 564
        },
        "id": "Ohv2frCTPhzK",
        "outputId": "69084ce9-0b2f-4a61-d4ec-9a6f995b510c"
      },
      "id": "Ohv2frCTPhzK",
      "execution_count": 13,
      "outputs": [
        {
          "output_type": "display_data",
          "data": {
            "text/plain": [
              "<Figure size 1000x600 with 1 Axes>"
            ],
            "image/png": "[encoded data removed]"
          },
          "metadata": {}
        }
      ]
    },
    {
      "cell_type": "code",
      "source": [],
      "metadata": {
        "id": "YWMTFTFNQlQ1"
      },
      "id": "YWMTFTFNQlQ1",
      "execution_count": null,
      "outputs": []
    }
  ],
  "metadata": {
    "kernelspec": {
      "display_name": "CS4811_AI",
      "language": "python",
      "name": "cs4811_ai"
    },
    "language_info": {
      "codemirror_mode": {
        "name": "ipython",
        "version": 3
      },
      "file_extension": ".py",
      "mimetype": "text/x-python",
      "name": "python",
      "nbconvert_exporter": "python",
      "pygments_lexer": "ipython3",
      "version": "3.8.17"
    },
    "colab": {
      "provenance": []
    }
  },
  "nbformat": 4,
  "nbformat_minor": 5
}